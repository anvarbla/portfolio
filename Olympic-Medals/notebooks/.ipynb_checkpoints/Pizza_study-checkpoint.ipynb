{
 "cells": [
  {
   "cell_type": "code",
   "execution_count": null,
   "id": "aaf58a59-ee95-4ad5-b8a0-bcc25153f29b",
   "metadata": {},
   "outputs": [],
   "source": [
    "import pandas as pd\n",
    "import numpy as np\n",
    "import re\n",
    "import seaborn as sns\n",
    "import functions as fun\n",
    "olympic_podium=pd.read_csv('../data/clean/dataset_olympics_clean/podium_1996-2016.csv')\n",
    "olympic_podium.region.fillna(\"Singapore\",inplace=True)\n",
    "olympic_podium.region.isnull().sum()\n",
    "olympic_podium=olympic_podium[olympic_podium.region !=\"Kosovo\"]\n",
    "olympic_podium"
   ]
  }
 ],
 "metadata": {
  "kernelspec": {
   "display_name": ".venv",
   "language": "python",
   "name": ".venv"
  },
  "language_info": {
   "codemirror_mode": {
    "name": "ipython",
    "version": 3
   },
   "file_extension": ".py",
   "mimetype": "text/x-python",
   "name": "python",
   "nbconvert_exporter": "python",
   "pygments_lexer": "ipython3",
   "version": "3.13.1"
  }
 },
 "nbformat": 4,
 "nbformat_minor": 5
}
